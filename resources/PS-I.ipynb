{
 "cells": [
  {
   "cell_type": "markdown",
   "metadata": {},
   "source": [
    "# Welcome to Generalities about Complex Numbers !\n",
    "---"
   ]
  },
  {
   "cell_type": "markdown",
   "metadata": {},
   "source": [
    "<div style=\"padding:8px 0 8px 15px;border-left:3px solid #83C5BE;background-color:#F3F3F3;\">\n",
    "    <span style=\"text-decoration:underline;font-weight:bold;\">How to use this notebook?</span><br/>\n",
    "    <br/>You will be faced with different exercises where we ask you to interact with the following objects.</strong><br/>\n",
    "    When you first open the notebook, please press on the \">>\" button at the top of the page to run all the activites.\n",
    "    \n",
    "<img src=\"images/instruction_help.jpeg\" alt=\"You do not have access to this content. Try logging in.\" style=\"width:800px;\"/>\n",
    "\n",
    "</div>"
   ]
  },
  {
   "cell_type": "markdown",
   "metadata": {},
   "source": [
    "*Exercise 1*: What are the solutions to the following quadratic equation?\n",
    "\n",
    "$$\n",
    "\\begin{aligned}\n",
    "x^{2} + 2x - 15 = 0\n",
    "\\end{aligned}\n",
    "$$\n",
    "\n",
    "<div style=\"padding:8px 0 8px 15px;border-left:3px solid #B51F1F;background-color:#F3F3F3;\">\n",
    "    <span style=\"font-weight:bold;text-decoration:underline;\">Activity</span><br/>\n",
    "\n",
    "Try to answer this question without solving it on paper.\n",
    "<br>\n",
    "Instead, use the following graph to find the solutions.\n",
    "<br>\n",
    "When you find the correct answer, please fill in the input. #TODO\n",
    "\n",
    "</div>"
   ]
  },
  {
   "cell_type": "code",
   "execution_count": 1,
   "metadata": {},
   "outputs": [
    {
     "data": {
      "text/html": [
       "\n",
       "        <iframe\n",
       "            width=\"600\"\n",
       "            height=\"300\"\n",
       "            src=\"https://www.surveymonkey.com/r/BQHLRRT?notebook_set=noto-poc-notebooks&notebook_id=survey-monkey-demo\"\n",
       "            frameborder=\"0\"\n",
       "            allowfullscreen\n",
       "            \n",
       "        ></iframe>\n",
       "        "
      ],
      "text/plain": [
       "<IPython.lib.display.IFrame at 0x10b17f910>"
      ]
     },
     "execution_count": 1,
     "metadata": {},
     "output_type": "execute_result"
    }
   ],
   "source": [
    "from IPython.display import IFrame\n",
    "IFrame('https://www.surveymonkey.com/r/BQHLRRT?notebook_set=noto-poc-notebooks&notebook_id=survey-monkey-demo', 600, 300)"
   ]
  },
  {
   "cell_type": "markdown",
   "metadata": {},
   "source": [
    "<div style=\"padding:10px 0 2px 15px;border-left:3px solid black;background-color:#F3F3F3;\">\n",
    "\n",
    "**Hint** - Try to use the *x_value* slider to help you find the correct solutions.\n",
    "    \n",
    "</div>"
   ]
  },
  {
   "cell_type": "code",
   "execution_count": 2,
   "metadata": {
    "jupyter": {
     "source_hidden": true
    },
    "tags": []
   },
   "outputs": [
    {
     "data": {
      "application/vnd.jupyter.widget-view+json": {
       "model_id": "95dad9a868d64810bbfece2b80d5c37c",
       "version_major": 2,
       "version_minor": 0
      },
      "text/plain": [
       "interactive(children=(IntSlider(value=0, description='x_value', max=10, min=-10), Output()), _dom_classes=('wi…"
      ]
     },
     "metadata": {},
     "output_type": "display_data"
    }
   ],
   "source": [
    "import psi_helper\n",
    "psi_helper.exercise_1()"
   ]
  },
  {
   "cell_type": "markdown",
   "metadata": {},
   "source": [
    "*Exercise 2*: \n",
    "a) Do you thing the following equation has any solutions?\n",
    "\n",
    "$$\n",
    "\\begin{aligned}\n",
    "x^{2} + 1 = 0\n",
    "\\end{aligned}\n",
    "$$"
   ]
  },
  {
   "cell_type": "markdown",
   "metadata": {},
   "source": [
    "<img src=\"https://www.transparentpng.com/thumb/light-bulb/ulA8ip-light-bulb-clipart-hd.png\" alt=\"lightbulb\" style=\"width:50px;float:left;margin-right:10px\"/>\n",
    "Remember that $ \\forall x\\in\\mathbb{R}^+$ where $x^2=N$, x has 2 square roots: $\\sqrt{N}$ and $-\\sqrt{N}$.\n",
    "<br>\n",
    "\n"
   ]
  },
  {
   "cell_type": "markdown",
   "metadata": {
    "tags": []
   },
   "source": [
    "<div style=\"padding:8px 0 8px 15px;border-left:3px solid #B51F1F;background-color:#F3F3F3;\">\n",
    "    <span style=\"font-weight:bold;text-decoration:underline;\">Activity</span><br/>\n",
    "\n",
    "Use the following graph to find the solutions.\n",
    "<br>\n",
    "When you find the correct answer, please fill in the input. #TODO\n",
    "\n",
    "</div>"
   ]
  },
  {
   "cell_type": "code",
   "execution_count": 3,
   "metadata": {},
   "outputs": [
    {
     "data": {
      "text/html": [
       "\n",
       "        <iframe\n",
       "            width=\"600\"\n",
       "            height=\"300\"\n",
       "            src=\"https://www.surveymonkey.com/r/BQHLRRT?notebook_set=noto-poc-notebooks&notebook_id=survey-monkey-demo\"\n",
       "            frameborder=\"0\"\n",
       "            allowfullscreen\n",
       "            \n",
       "        ></iframe>\n",
       "        "
      ],
      "text/plain": [
       "<IPython.lib.display.IFrame at 0x10b17fa30>"
      ]
     },
     "execution_count": 3,
     "metadata": {},
     "output_type": "execute_result"
    }
   ],
   "source": [
    "from IPython.display import IFrame\n",
    "IFrame('https://www.surveymonkey.com/r/BQHLRRT?notebook_set=noto-poc-notebooks&notebook_id=survey-monkey-demo', 600, 300)"
   ]
  },
  {
   "cell_type": "markdown",
   "metadata": {
    "tags": []
   },
   "source": [
    "<div style=\"padding:10px 0 2px 15px;border-left:3px solid black;background-color:#F3F3F3;\">\n",
    "\n",
    "**Hint** - This time, things are getting a bit more complciated.\n",
    "<br>\n",
    "Try to find the solutions by using the 2 sliders below *real_part* and *imaginary_part*\n",
    "    \n",
    "</div>"
   ]
  },
  {
   "cell_type": "code",
   "execution_count": 4,
   "metadata": {
    "jupyter": {
     "source_hidden": true
    },
    "tags": []
   },
   "outputs": [
    {
     "data": {
      "application/vnd.jupyter.widget-view+json": {
       "model_id": "66c97fbe35f74358958febeb0a20b44e",
       "version_major": 2,
       "version_minor": 0
      },
      "text/plain": [
       "interactive(children=(IntSlider(value=0, description='real_part', max=10, min=-10), IntSlider(value=0, descrip…"
      ]
     },
     "metadata": {},
     "output_type": "display_data"
    }
   ],
   "source": [
    "psi_helper.exercise_2()"
   ]
  },
  {
   "cell_type": "markdown",
   "metadata": {},
   "source": [
    "*Exercise 3*: What are the solutions to the following quadratic equation?\n",
    "\n",
    "$$\n",
    "\\begin{aligned}\n",
    "x^{2} + 8x + 12 = 0\n",
    "\\end{aligned}\n",
    "$$\n",
    "\n",
    "<div style=\"padding:8px 0 8px 15px;border-left:3px solid #B51F1F;background-color:#F3F3F3;\">\n",
    "    <span style=\"font-weight:bold;text-decoration:underline;\">Activity</span><br/>\n",
    "\n",
    "Just as before, use the following graph to find the solutions.\n",
    "<br>\n",
    "When you find the correct answer, please fill in the input. #TODO\n",
    "\n",
    "</div>"
   ]
  },
  {
   "cell_type": "code",
   "execution_count": 5,
   "metadata": {},
   "outputs": [
    {
     "data": {
      "text/html": [
       "\n",
       "        <iframe\n",
       "            width=\"600\"\n",
       "            height=\"300\"\n",
       "            src=\"https://www.surveymonkey.com/r/BQHLRRT?notebook_set=noto-poc-notebooks&notebook_id=survey-monkey-demo\"\n",
       "            frameborder=\"0\"\n",
       "            allowfullscreen\n",
       "            \n",
       "        ></iframe>\n",
       "        "
      ],
      "text/plain": [
       "<IPython.lib.display.IFrame at 0x11f1d6cd0>"
      ]
     },
     "execution_count": 5,
     "metadata": {},
     "output_type": "execute_result"
    }
   ],
   "source": [
    "from IPython.display import IFrame\n",
    "IFrame('https://www.surveymonkey.com/r/BQHLRRT?notebook_set=noto-poc-notebooks&notebook_id=survey-monkey-demo', 600, 300)"
   ]
  },
  {
   "cell_type": "markdown",
   "metadata": {},
   "source": [
    "<div style=\"padding:10px 0 2px 15px;border-left:3px solid black;background-color:#F3F3F3;\">\n",
    "\n",
    "**Hint** - Think about when you need to find the solutions for an equation with $x \\in \\mathbb{R}$.\n",
    "<br>\n",
    "How can the graph help you? How are the values of x influencing the value of the function?\n",
    "    \n",
    "</div>"
   ]
  },
  {
   "cell_type": "code",
   "execution_count": 6,
   "metadata": {
    "jupyter": {
     "source_hidden": true
    },
    "tags": []
   },
   "outputs": [
    {
     "data": {
      "application/vnd.jupyter.widget-view+json": {
       "model_id": "e0471f7eacf94fdfa1af204aa1a758ef",
       "version_major": 2,
       "version_minor": 0
      },
      "text/plain": [
       "interactive(children=(IntSlider(value=0, description='real_part', max=10, min=-10), IntSlider(value=0, descrip…"
      ]
     },
     "metadata": {},
     "output_type": "display_data"
    }
   ],
   "source": [
    "psi_helper.exercise_3()"
   ]
  },
  {
   "cell_type": "markdown",
   "metadata": {},
   "source": [
    "---\n",
    "You might be wondering what the Imaginary Part really is.\n",
    "<br>\n",
    "Well, this is something for you to discover in the following part of the course.\n",
    "<br>\n",
    "As a fun fact, if we try to plot the function $x^{2} + 1$ we would be getting the following plot!"
   ]
  },
  {
   "cell_type": "code",
   "execution_count": 7,
   "metadata": {
    "tags": []
   },
   "outputs": [
    {
     "data": {
      "image/png": "[encoded data removed]",
      "text/plain": [
       "<Figure size 432x288 with 2 Axes>"
      ]
     },
     "metadata": {
      "needs_background": "light"
     },
     "output_type": "display_data"
    }
   ],
   "source": [
    "psi_helper.fun_fact()"
   ]
  },
  {
   "cell_type": "code",
   "execution_count": null,
   "metadata": {},
   "outputs": [],
   "source": []
  }
 ],
 "metadata": {
  "kernelspec": {
   "display_name": "Python 3.11.0 64-bit",
   "language": "python",
   "name": "python3"
  },
  "language_info": {
   "codemirror_mode": {
    "name": "ipython",
    "version": 3
   },
   "file_extension": ".py",
   "mimetype": "text/x-python",
   "name": "python",
   "nbconvert_exporter": "python",
   "pygments_lexer": "ipython3",
   "version": "3.11.0"
  },
  "vscode": {
   "interpreter": {
    "hash": "e7370f93d1d0cde622a1f8e1c04877d8463912d04d973331ad4851f04de6915a"
   }
  }
 },
 "nbformat": 4,
 "nbformat_minor": 4
}
