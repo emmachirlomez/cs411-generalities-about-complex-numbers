{
 "cells": [
  {
   "cell_type": "markdown",
   "metadata": {},
   "source": [
    "# Welcome to Generalities about Complex Numbers !\n",
    "---"
   ]
  },
  {
   "cell_type": "markdown",
   "metadata": {},
   "source": [
    "<div style=\"padding:8px 0 8px 15px;border-left:3px solid #83C5BE;background-color:#F3F3F3;\">\n",
    "    <span style=\"text-decoration:underline;font-weight:bold;\">How to use this notebook?</span><br/>\n",
    "    <br/>The instructions to follow...</strong>.<br/>\n",
    "</div>"
   ]
  },
  {
   "cell_type": "markdown",
   "metadata": {},
   "source": [
    "*Exercise 1*: What are the solutions to the following quadratic equation?\n",
    "\n",
    "$$\n",
    "\\begin{aligned}\n",
    "x^{2} + 2x - 15 = 0\n",
    "\\end{aligned}\n",
    "$$\n",
    "\n",
    "<div style=\"padding:8px 0 8px 15px;border-left:3px solid #B51F1F;background-color:#F3F3F3;\">\n",
    "    <span style=\"font-weight:bold;text-decoration:underline;\">Activity</span><br/>\n",
    "\n",
    "Try to answer this question without solving it on paper.\n",
    "<br>\n",
    "Instead, use the following graph to find the solutions.\n",
    "<br>\n",
    "When you find the correct answer, please fill in the input. #TODO\n",
    "\n",
    "</div>"
   ]
  },
  {
   "cell_type": "markdown",
   "metadata": {},
   "source": [
    "<div style=\"padding:10px 0 2px 15px;border-left:3px solid black;background-color:#F3F3F3;\">\n",
    "\n",
    "**Hint** - Try to use the *x_value* slider to help you find the correct solutions.\n",
    "    \n",
    "</div>"
   ]
  },
  {
   "cell_type": "code",
   "execution_count": 1,
   "metadata": {
    "jupyter": {
     "source_hidden": true
    },
    "tags": []
   },
   "outputs": [
    {
     "data": {
      "application/vnd.jupyter.widget-view+json": {
       "model_id": "44fca31284fd4c81955ea0f9abb747b7",
       "version_major": 2,
       "version_minor": 0
      },
      "text/plain": [
       "interactive(children=(IntSlider(value=0, description='x_value', max=10, min=-10), Output()), _dom_classes=('wi…"
      ]
     },
     "metadata": {},
     "output_type": "display_data"
    }
   ],
   "source": [
    "import micropip\n",
    "await micropip.install('ipywidgets')\n",
    "await micropip.install('ipympl')\n",
    "import psi_helper\n",
    "from ipywidgets import interact, widgets\n",
    "\n",
    "x = widgets.IntSlider(min=-10, max=10, step=1, value=0)\n",
    "interact(psi_helper.show_plots_real_solution, x_value=x);"
   ]
  },
  {
   "cell_type": "markdown",
   "metadata": {},
   "source": [
    "*Exercise 2*: Do you think the following equation has any solutions?\n",
    "\n",
    "$$\n",
    "\\begin{aligned}\n",
    "x^{2} + 1 = 0\n",
    "\\end{aligned}\n",
    "$$"
   ]
  },
  {
   "cell_type": "markdown",
   "metadata": {},
   "source": [
    "<img src=\"https://www.transparentpng.com/thumb/light-bulb/ulA8ip-light-bulb-clipart-hd.png\" alt=\"lightbulb\" style=\"width:50px;float:left;margin-right:10px\"/>\n",
    "Remember that $ \\forall N\\in\\mathbb{R}^+$ has 2 square roots: $\\sqrt{N}$ and $-\\sqrt{N}$.\n",
    "<br>\n",
    "\n"
   ]
  },
  {
   "cell_type": "markdown",
   "metadata": {},
   "source": [
    "Please answer with a ***Yes*** or ***No***."
   ]
  },
  {
   "cell_type": "code",
   "execution_count": null,
   "metadata": {
    "jupyter": {
     "source_hidden": true
    },
    "tags": []
   },
   "outputs": [],
   "source": [
    "answer = input(\"Answer\")\n",
    "\n",
    "if answer == \"Yes\":\n",
    "    print(\"That's right!\\nThis equation does indeed have 2 solutions, just not in the Real space!\\nClick on the \\\"...\\\" to view the instructions for the activity.\")\n",
    "elif answer == \"No\":\n",
    "    print(\"This equation does indeed have no solutions in the Real space.\\nNevertheless, the equation still has 2 solutions!\\nWe will see how this is possible.\\nClick on the \\\"...\\\" to view the instructions for the activity.\")\n",
    "else:\n",
    "    print(\"Hey don't try to hack into the Notebook :P.Click on the \\\"...\\\" to view the instructions for the activity.\")"
   ]
  },
  {
   "cell_type": "markdown",
   "metadata": {
    "tags": []
   },
   "source": [
    "<div style=\"padding:8px 0 8px 15px;border-left:3px solid #B51F1F;background-color:#F3F3F3;\">\n",
    "    <span style=\"font-weight:bold;text-decoration:underline;\">Activity</span><br/>\n",
    "\n",
    "Use the following graph to find the solutions.\n",
    "<br>\n",
    "Click on the following \"...\" for a Hint!\n",
    "<br>\n",
    "When you find the correct answer, please fill in the input. #TODO\n",
    "\n",
    "</div>"
   ]
  },
  {
   "cell_type": "markdown",
   "metadata": {
    "tags": []
   },
   "source": [
    "<div style=\"padding:10px 0 2px 15px;border-left:3px solid black;background-color:#F3F3F3;\">\n",
    "\n",
    "**Hint** - This time, things are getting a bit more complciated.\n",
    "<br>\n",
    "Try to find the solutions by using the 2 sliders below *real_part* and *imaginary_part*\n",
    "    \n",
    "</div>"
   ]
  },
  {
   "cell_type": "code",
   "execution_count": null,
   "metadata": {
    "jupyter": {
     "source_hidden": true
    },
    "tags": []
   },
   "outputs": [],
   "source": [
    "real_part = widgets.IntSlider(min=-10, max=10, step=1, value=0)\n",
    "imag_part = widgets.IntSlider(min=-10, max=10, step=1, value=0)\n",
    "\n",
    "interact(psi_helper.show_plots, real_part=real_part, imag_part=imag_part);"
   ]
  },
  {
   "cell_type": "markdown",
   "metadata": {},
   "source": [
    "*Exercise 3*: What are the solutions to the following quadratic equation?\n",
    "\n",
    "$$\n",
    "\\begin{aligned}\n",
    "x^{2} + 8x + 12 = 0\n",
    "\\end{aligned}\n",
    "$$\n",
    "\n",
    "<div style=\"padding:8px 0 8px 15px;border-left:3px solid #B51F1F;background-color:#F3F3F3;\">\n",
    "    <span style=\"font-weight:bold;text-decoration:underline;\">Activity</span><br/>\n",
    "\n",
    "Just as before, use the following graph to find the solutions.\n",
    "<br>\n",
    "When you find the correct answer, please fill in the input. #TODO\n",
    "\n",
    "</div>"
   ]
  },
  {
   "cell_type": "markdown",
   "metadata": {},
   "source": [
    "<div style=\"padding:10px 0 2px 15px;border-left:3px solid black;background-color:#F3F3F3;\">\n",
    "\n",
    "**Hint** - Think about when you need to find the solutions for an equation with $x \\in \\mathbb{R}$.\n",
    "<br>\n",
    "How can the graph help you? How are the values of x influencing the value of the function?\n",
    "    \n",
    "</div>"
   ]
  },
  {
   "cell_type": "code",
   "execution_count": null,
   "metadata": {
    "jupyter": {
     "source_hidden": true
    },
    "tags": []
   },
   "outputs": [],
   "source": [
    "real_part = widgets.IntSlider(min=-10, max=10, step=1, value=0)\n",
    "imag_part = widgets.IntSlider(min=-10, max=10, step=1, value=0)\n",
    "\n",
    "interact(psi_helper.show_more_difficult_example, real_part=real_part, imag_part=imag_part);"
   ]
  },
  {
   "cell_type": "markdown",
   "metadata": {},
   "source": [
    "---\n",
    "You might be wondering what the Imaginary Part really is.\n",
    "<br>\n",
    "Well, this is something for you to discover in the following part of the course.\n",
    "<br>\n",
    "As a fun fact, if we try to plot the function $x^{2} + 1$ we would be getting the following plot!\n",
    "<br>\n",
    "You can interact with it if you want."
   ]
  },
  {
   "cell_type": "code",
   "execution_count": null,
   "metadata": {
    "jupyter": {
     "source_hidden": true
    },
    "tags": []
   },
   "outputs": [],
   "source": [
    "psi_helper.plot_4d_function(lambda a: a**2+1, -2, 2, -2, 2)"
   ]
  }
 ],
 "metadata": {
  "kernelspec": {
   "display_name": "Python 3 (ipykernel)",
   "language": "python",
   "name": "python3"
  },
  "language_info": {
   "codemirror_mode": {
    "name": "ipython",
    "version": 3
   },
   "file_extension": ".py",
   "mimetype": "text/x-python",
   "name": "python",
   "nbconvert_exporter": "python",
   "pygments_lexer": "ipython3",
   "version": "3.11.0"
  },
  "vscode": {
   "interpreter": {
    "hash": "e7370f93d1d0cde622a1f8e1c04877d8463912d04d973331ad4851f04de6915a"
   }
  }
 },
 "nbformat": 4,
 "nbformat_minor": 4
}
