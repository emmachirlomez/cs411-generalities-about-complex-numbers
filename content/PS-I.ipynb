{
 "cells": [
  {
   "cell_type": "markdown",
   "metadata": {},
   "source": [
    "### Welcome to the PS Activity of the CS411 Generalities about Complex Numbers"
   ]
  },
  {
   "cell_type": "markdown",
   "metadata": {},
   "source": [
    "In the following lines we would kindly ask you to answer to the following questions."
   ]
  },
  {
   "cell_type": "markdown",
   "metadata": {},
   "source": [
    "*Exercise 1*: What are the solutions to the following quadratic equation?\n",
    "\n",
    "$$\n",
    "\\begin{aligned}\n",
    "x^{2} + 2x - 15 = 0\n",
    "\\end{aligned}\n",
    "$$"
   ]
  },
  {
   "cell_type": "code",
   "execution_count": 1,
   "metadata": {},
   "outputs": [],
   "source": [
    "import micropip\n",
    "await micropip.install('ipywidgets')\n",
    "await micropip.install('ipympl')\n",
    "import psi_helper\n",
    "from ipywidgets import interact, widgets\n",
    "\n",
    "real_part = widgets.IntSlider(min=-10, max=10, step=1, value=0)\n",
    "imag_part = widgets.IntSlider(min=-10, max=10, step=1, value=0)\n",
    "\n",
    "interact(psi_helper.show_plots, real_part=real_part, imag_part=imag_part)"
   ]
  }
 ],
 "metadata": {
  "kernelspec": {
   "display_name": "Python 3.11.0 64-bit",
   "language": "python",
   "name": "python3"
  },
  "language_info": {
   "codemirror_mode": {
    "name": "ipython",
    "version": 3
   },
   "file_extension": ".py",
   "mimetype": "text/x-python",
   "name": "python",
   "nbconvert_exporter": "python",
   "pygments_lexer": "ipython3",
   "version": "3.11.0"
  },
  "orig_nbformat": 4,
  "vscode": {
   "interpreter": {
    "hash": "e7370f93d1d0cde622a1f8e1c04877d8463912d04d973331ad4851f04de6915a"
   }
  }
 },
 "nbformat": 4,
 "nbformat_minor": 2
}
